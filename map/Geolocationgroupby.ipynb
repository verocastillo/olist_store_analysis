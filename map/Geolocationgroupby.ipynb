{
  "nbformat": 4,
  "nbformat_minor": 0,
  "metadata": {
    "colab": {
      "name": "Untitled18.ipynb",
      "provenance": []
    },
    "kernelspec": {
      "name": "python3",
      "display_name": "Python 3"
    },
    "language_info": {
      "name": "python"
    }
  },
  "cells": [
    {
      "cell_type": "code",
      "metadata": {
        "id": "9AWp1xTaeU5T"
      },
      "source": [
        "import pandas as pd"
      ],
      "execution_count": 1,
      "outputs": []
    },
    {
      "cell_type": "code",
      "metadata": {
        "id": "qaDwK0YlfoKs"
      },
      "source": [
        "df = pd.read_csv('/content/Final_Dataset_Transformdata20210720.csv')"
      ],
      "execution_count": 2,
      "outputs": []
    },
    {
      "cell_type": "code",
      "metadata": {
        "colab": {
          "base_uri": "https://localhost:8080/",
          "height": 224
        },
        "id": "vfV9G2sqftEO",
        "outputId": "87f2e989-2a9c-4c62-e079-57fc6097f9db"
      },
      "source": [
        "df.head()"
      ],
      "execution_count": 3,
      "outputs": [
        {
          "output_type": "execute_result",
          "data": {
            "text/html": [
              "<div>\n",
              "<style scoped>\n",
              "    .dataframe tbody tr th:only-of-type {\n",
              "        vertical-align: middle;\n",
              "    }\n",
              "\n",
              "    .dataframe tbody tr th {\n",
              "        vertical-align: top;\n",
              "    }\n",
              "\n",
              "    .dataframe thead th {\n",
              "        text-align: right;\n",
              "    }\n",
              "</style>\n",
              "<table border=\"1\" class=\"dataframe\">\n",
              "  <thead>\n",
              "    <tr style=\"text-align: right;\">\n",
              "      <th></th>\n",
              "      <th>order_id</th>\n",
              "      <th>order_delivered_customer_date</th>\n",
              "      <th>order_status</th>\n",
              "      <th>product_category_name</th>\n",
              "      <th>payment_value</th>\n",
              "      <th>customer_zip_code_prefix</th>\n",
              "      <th>customer_unique_id</th>\n",
              "      <th>customer_city</th>\n",
              "      <th>customer_state</th>\n",
              "      <th>geolocation_lat</th>\n",
              "      <th>geolocation_lng</th>\n",
              "      <th>review_score</th>\n",
              "    </tr>\n",
              "  </thead>\n",
              "  <tbody>\n",
              "    <tr>\n",
              "      <th>0</th>\n",
              "      <td>00061f2a7bc09da83e415a52dc8a4af1</td>\n",
              "      <td>2018-03-29 00:04:19</td>\n",
              "      <td>delivered</td>\n",
              "      <td>beleza_saude</td>\n",
              "      <td>68.87</td>\n",
              "      <td>13419</td>\n",
              "      <td>107e6259485efac66428a56f10801f4f</td>\n",
              "      <td>piracicaba</td>\n",
              "      <td>SP</td>\n",
              "      <td>-23.556398</td>\n",
              "      <td>-46.643720</td>\n",
              "      <td>5</td>\n",
              "    </tr>\n",
              "    <tr>\n",
              "      <th>1</th>\n",
              "      <td>0014ae671de39511f7575066200733b7</td>\n",
              "      <td>2017-06-07 13:52:52</td>\n",
              "      <td>delivered</td>\n",
              "      <td>telefonia</td>\n",
              "      <td>30.60</td>\n",
              "      <td>83325</td>\n",
              "      <td>8e5a8d9363eb6296154b65750c8702ca</td>\n",
              "      <td>pinhais</td>\n",
              "      <td>PR</td>\n",
              "      <td>-23.491295</td>\n",
              "      <td>-46.638582</td>\n",
              "      <td>5</td>\n",
              "    </tr>\n",
              "    <tr>\n",
              "      <th>2</th>\n",
              "      <td>0046176ff0dbc2a178b7885355dfbb71</td>\n",
              "      <td>2018-06-04 18:18:29</td>\n",
              "      <td>delivered</td>\n",
              "      <td>consoles_games</td>\n",
              "      <td>137.72</td>\n",
              "      <td>34007</td>\n",
              "      <td>58a7135fcd46147533c2f50747435ec2</td>\n",
              "      <td>nova lima</td>\n",
              "      <td>MG</td>\n",
              "      <td>-23.569178</td>\n",
              "      <td>-46.635300</td>\n",
              "      <td>5</td>\n",
              "    </tr>\n",
              "    <tr>\n",
              "      <th>3</th>\n",
              "      <td>008819c6d5f6da6fa5cd9d50ca927cf4</td>\n",
              "      <td>2018-08-07 20:12:22</td>\n",
              "      <td>delivered</td>\n",
              "      <td>relogios_presentes</td>\n",
              "      <td>62.65</td>\n",
              "      <td>2012</td>\n",
              "      <td>f3591ae7686317e84ebbf646bedf3e24</td>\n",
              "      <td>sao paulo</td>\n",
              "      <td>SP</td>\n",
              "      <td>-23.547795</td>\n",
              "      <td>-46.630238</td>\n",
              "      <td>3</td>\n",
              "    </tr>\n",
              "    <tr>\n",
              "      <th>4</th>\n",
              "      <td>00975e709cd12c34d3bd44e4a7f7a876</td>\n",
              "      <td>2017-08-23 23:04:17</td>\n",
              "      <td>delivered</td>\n",
              "      <td>cool_stuff</td>\n",
              "      <td>94.66</td>\n",
              "      <td>13344</td>\n",
              "      <td>ebcca806966fdf4317d0741eeee16004</td>\n",
              "      <td>indaiatuba</td>\n",
              "      <td>SP</td>\n",
              "      <td>-23.557507</td>\n",
              "      <td>-46.661117</td>\n",
              "      <td>5</td>\n",
              "    </tr>\n",
              "  </tbody>\n",
              "</table>\n",
              "</div>"
            ],
            "text/plain": [
              "                           order_id  ... review_score\n",
              "0  00061f2a7bc09da83e415a52dc8a4af1  ...            5\n",
              "1  0014ae671de39511f7575066200733b7  ...            5\n",
              "2  0046176ff0dbc2a178b7885355dfbb71  ...            5\n",
              "3  008819c6d5f6da6fa5cd9d50ca927cf4  ...            3\n",
              "4  00975e709cd12c34d3bd44e4a7f7a876  ...            5\n",
              "\n",
              "[5 rows x 12 columns]"
            ]
          },
          "metadata": {
            "tags": []
          },
          "execution_count": 3
        }
      ]
    },
    {
      "cell_type": "code",
      "metadata": {
        "id": "v6fyZO7vf-kt"
      },
      "source": [
        "df['order_delivered_customer_date'] = pd.to_datetime(df['order_delivered_customer_date'])"
      ],
      "execution_count": 4,
      "outputs": []
    },
    {
      "cell_type": "code",
      "metadata": {
        "id": "jovbx2RFgzNU"
      },
      "source": [
        "df['year'] = df['order_delivered_customer_date'].dt.year"
      ],
      "execution_count": 5,
      "outputs": []
    },
    {
      "cell_type": "code",
      "metadata": {
        "colab": {
          "base_uri": "https://localhost:8080/",
          "height": 224
        },
        "id": "1Z4eDRKKg_3Y",
        "outputId": "0313eff9-7deb-443a-b5bc-d3108198f0a4"
      },
      "source": [
        "df.head()"
      ],
      "execution_count": 6,
      "outputs": [
        {
          "output_type": "execute_result",
          "data": {
            "text/html": [
              "<div>\n",
              "<style scoped>\n",
              "    .dataframe tbody tr th:only-of-type {\n",
              "        vertical-align: middle;\n",
              "    }\n",
              "\n",
              "    .dataframe tbody tr th {\n",
              "        vertical-align: top;\n",
              "    }\n",
              "\n",
              "    .dataframe thead th {\n",
              "        text-align: right;\n",
              "    }\n",
              "</style>\n",
              "<table border=\"1\" class=\"dataframe\">\n",
              "  <thead>\n",
              "    <tr style=\"text-align: right;\">\n",
              "      <th></th>\n",
              "      <th>order_id</th>\n",
              "      <th>order_delivered_customer_date</th>\n",
              "      <th>order_status</th>\n",
              "      <th>product_category_name</th>\n",
              "      <th>payment_value</th>\n",
              "      <th>customer_zip_code_prefix</th>\n",
              "      <th>customer_unique_id</th>\n",
              "      <th>customer_city</th>\n",
              "      <th>customer_state</th>\n",
              "      <th>geolocation_lat</th>\n",
              "      <th>geolocation_lng</th>\n",
              "      <th>review_score</th>\n",
              "      <th>year</th>\n",
              "    </tr>\n",
              "  </thead>\n",
              "  <tbody>\n",
              "    <tr>\n",
              "      <th>0</th>\n",
              "      <td>00061f2a7bc09da83e415a52dc8a4af1</td>\n",
              "      <td>2018-03-29 00:04:19</td>\n",
              "      <td>delivered</td>\n",
              "      <td>beleza_saude</td>\n",
              "      <td>68.87</td>\n",
              "      <td>13419</td>\n",
              "      <td>107e6259485efac66428a56f10801f4f</td>\n",
              "      <td>piracicaba</td>\n",
              "      <td>SP</td>\n",
              "      <td>-23.556398</td>\n",
              "      <td>-46.643720</td>\n",
              "      <td>5</td>\n",
              "      <td>2018.0</td>\n",
              "    </tr>\n",
              "    <tr>\n",
              "      <th>1</th>\n",
              "      <td>0014ae671de39511f7575066200733b7</td>\n",
              "      <td>2017-06-07 13:52:52</td>\n",
              "      <td>delivered</td>\n",
              "      <td>telefonia</td>\n",
              "      <td>30.60</td>\n",
              "      <td>83325</td>\n",
              "      <td>8e5a8d9363eb6296154b65750c8702ca</td>\n",
              "      <td>pinhais</td>\n",
              "      <td>PR</td>\n",
              "      <td>-23.491295</td>\n",
              "      <td>-46.638582</td>\n",
              "      <td>5</td>\n",
              "      <td>2017.0</td>\n",
              "    </tr>\n",
              "    <tr>\n",
              "      <th>2</th>\n",
              "      <td>0046176ff0dbc2a178b7885355dfbb71</td>\n",
              "      <td>2018-06-04 18:18:29</td>\n",
              "      <td>delivered</td>\n",
              "      <td>consoles_games</td>\n",
              "      <td>137.72</td>\n",
              "      <td>34007</td>\n",
              "      <td>58a7135fcd46147533c2f50747435ec2</td>\n",
              "      <td>nova lima</td>\n",
              "      <td>MG</td>\n",
              "      <td>-23.569178</td>\n",
              "      <td>-46.635300</td>\n",
              "      <td>5</td>\n",
              "      <td>2018.0</td>\n",
              "    </tr>\n",
              "    <tr>\n",
              "      <th>3</th>\n",
              "      <td>008819c6d5f6da6fa5cd9d50ca927cf4</td>\n",
              "      <td>2018-08-07 20:12:22</td>\n",
              "      <td>delivered</td>\n",
              "      <td>relogios_presentes</td>\n",
              "      <td>62.65</td>\n",
              "      <td>2012</td>\n",
              "      <td>f3591ae7686317e84ebbf646bedf3e24</td>\n",
              "      <td>sao paulo</td>\n",
              "      <td>SP</td>\n",
              "      <td>-23.547795</td>\n",
              "      <td>-46.630238</td>\n",
              "      <td>3</td>\n",
              "      <td>2018.0</td>\n",
              "    </tr>\n",
              "    <tr>\n",
              "      <th>4</th>\n",
              "      <td>00975e709cd12c34d3bd44e4a7f7a876</td>\n",
              "      <td>2017-08-23 23:04:17</td>\n",
              "      <td>delivered</td>\n",
              "      <td>cool_stuff</td>\n",
              "      <td>94.66</td>\n",
              "      <td>13344</td>\n",
              "      <td>ebcca806966fdf4317d0741eeee16004</td>\n",
              "      <td>indaiatuba</td>\n",
              "      <td>SP</td>\n",
              "      <td>-23.557507</td>\n",
              "      <td>-46.661117</td>\n",
              "      <td>5</td>\n",
              "      <td>2017.0</td>\n",
              "    </tr>\n",
              "  </tbody>\n",
              "</table>\n",
              "</div>"
            ],
            "text/plain": [
              "                           order_id  ...    year\n",
              "0  00061f2a7bc09da83e415a52dc8a4af1  ...  2018.0\n",
              "1  0014ae671de39511f7575066200733b7  ...  2017.0\n",
              "2  0046176ff0dbc2a178b7885355dfbb71  ...  2018.0\n",
              "3  008819c6d5f6da6fa5cd9d50ca927cf4  ...  2018.0\n",
              "4  00975e709cd12c34d3bd44e4a7f7a876  ...  2017.0\n",
              "\n",
              "[5 rows x 13 columns]"
            ]
          },
          "metadata": {
            "tags": []
          },
          "execution_count": 6
        }
      ]
    },
    {
      "cell_type": "code",
      "metadata": {
        "id": "rwfgDHHjnwgJ"
      },
      "source": [
        "df2 = df[['year','geolocation_lat','geolocation_lng','payment_value','product_category_name']]"
      ],
      "execution_count": 7,
      "outputs": []
    },
    {
      "cell_type": "code",
      "metadata": {
        "colab": {
          "base_uri": "https://localhost:8080/",
          "height": 204
        },
        "id": "ILrKCRsNoUNh",
        "outputId": "f7940757-fdd3-42b0-f2c2-2d5fb2cba60a"
      },
      "source": [
        "df2.head()"
      ],
      "execution_count": 8,
      "outputs": [
        {
          "output_type": "execute_result",
          "data": {
            "text/html": [
              "<div>\n",
              "<style scoped>\n",
              "    .dataframe tbody tr th:only-of-type {\n",
              "        vertical-align: middle;\n",
              "    }\n",
              "\n",
              "    .dataframe tbody tr th {\n",
              "        vertical-align: top;\n",
              "    }\n",
              "\n",
              "    .dataframe thead th {\n",
              "        text-align: right;\n",
              "    }\n",
              "</style>\n",
              "<table border=\"1\" class=\"dataframe\">\n",
              "  <thead>\n",
              "    <tr style=\"text-align: right;\">\n",
              "      <th></th>\n",
              "      <th>year</th>\n",
              "      <th>geolocation_lat</th>\n",
              "      <th>geolocation_lng</th>\n",
              "      <th>payment_value</th>\n",
              "      <th>product_category_name</th>\n",
              "    </tr>\n",
              "  </thead>\n",
              "  <tbody>\n",
              "    <tr>\n",
              "      <th>0</th>\n",
              "      <td>2018.0</td>\n",
              "      <td>-23.556398</td>\n",
              "      <td>-46.643720</td>\n",
              "      <td>68.87</td>\n",
              "      <td>beleza_saude</td>\n",
              "    </tr>\n",
              "    <tr>\n",
              "      <th>1</th>\n",
              "      <td>2017.0</td>\n",
              "      <td>-23.491295</td>\n",
              "      <td>-46.638582</td>\n",
              "      <td>30.60</td>\n",
              "      <td>telefonia</td>\n",
              "    </tr>\n",
              "    <tr>\n",
              "      <th>2</th>\n",
              "      <td>2018.0</td>\n",
              "      <td>-23.569178</td>\n",
              "      <td>-46.635300</td>\n",
              "      <td>137.72</td>\n",
              "      <td>consoles_games</td>\n",
              "    </tr>\n",
              "    <tr>\n",
              "      <th>3</th>\n",
              "      <td>2018.0</td>\n",
              "      <td>-23.547795</td>\n",
              "      <td>-46.630238</td>\n",
              "      <td>62.65</td>\n",
              "      <td>relogios_presentes</td>\n",
              "    </tr>\n",
              "    <tr>\n",
              "      <th>4</th>\n",
              "      <td>2017.0</td>\n",
              "      <td>-23.557507</td>\n",
              "      <td>-46.661117</td>\n",
              "      <td>94.66</td>\n",
              "      <td>cool_stuff</td>\n",
              "    </tr>\n",
              "  </tbody>\n",
              "</table>\n",
              "</div>"
            ],
            "text/plain": [
              "     year  geolocation_lat  ...  payment_value  product_category_name\n",
              "0  2018.0       -23.556398  ...          68.87           beleza_saude\n",
              "1  2017.0       -23.491295  ...          30.60              telefonia\n",
              "2  2018.0       -23.569178  ...         137.72         consoles_games\n",
              "3  2018.0       -23.547795  ...          62.65     relogios_presentes\n",
              "4  2017.0       -23.557507  ...          94.66             cool_stuff\n",
              "\n",
              "[5 rows x 5 columns]"
            ]
          },
          "metadata": {
            "tags": []
          },
          "execution_count": 8
        }
      ]
    },
    {
      "cell_type": "code",
      "metadata": {
        "colab": {
          "base_uri": "https://localhost:8080/"
        },
        "id": "88e1oRVlFBjd",
        "outputId": "31c26d5e-27da-42ff-b754-7993074fb6b8"
      },
      "source": [
        "decimals = 2\n",
        "\n",
        "df2['geolocation_lat'] = df2['geolocation_lat'].apply(lambda x: round(x,decimals))\n",
        "df2['geolocation_lng'] = df2['geolocation_lng'].apply(lambda x: round(x,decimals))"
      ],
      "execution_count": 9,
      "outputs": [
        {
          "output_type": "stream",
          "text": [
            "/usr/local/lib/python3.7/dist-packages/ipykernel_launcher.py:3: SettingWithCopyWarning: \n",
            "A value is trying to be set on a copy of a slice from a DataFrame.\n",
            "Try using .loc[row_indexer,col_indexer] = value instead\n",
            "\n",
            "See the caveats in the documentation: https://pandas.pydata.org/pandas-docs/stable/user_guide/indexing.html#returning-a-view-versus-a-copy\n",
            "  This is separate from the ipykernel package so we can avoid doing imports until\n",
            "/usr/local/lib/python3.7/dist-packages/ipykernel_launcher.py:4: SettingWithCopyWarning: \n",
            "A value is trying to be set on a copy of a slice from a DataFrame.\n",
            "Try using .loc[row_indexer,col_indexer] = value instead\n",
            "\n",
            "See the caveats in the documentation: https://pandas.pydata.org/pandas-docs/stable/user_guide/indexing.html#returning-a-view-versus-a-copy\n",
            "  after removing the cwd from sys.path.\n"
          ],
          "name": "stderr"
        }
      ]
    },
    {
      "cell_type": "code",
      "metadata": {
        "colab": {
          "base_uri": "https://localhost:8080/",
          "height": 204
        },
        "id": "7KAARuPKHDPG",
        "outputId": "11413df1-7dfb-4c7f-b320-60a6f03871f3"
      },
      "source": [
        "df2.head()"
      ],
      "execution_count": 10,
      "outputs": [
        {
          "output_type": "execute_result",
          "data": {
            "text/html": [
              "<div>\n",
              "<style scoped>\n",
              "    .dataframe tbody tr th:only-of-type {\n",
              "        vertical-align: middle;\n",
              "    }\n",
              "\n",
              "    .dataframe tbody tr th {\n",
              "        vertical-align: top;\n",
              "    }\n",
              "\n",
              "    .dataframe thead th {\n",
              "        text-align: right;\n",
              "    }\n",
              "</style>\n",
              "<table border=\"1\" class=\"dataframe\">\n",
              "  <thead>\n",
              "    <tr style=\"text-align: right;\">\n",
              "      <th></th>\n",
              "      <th>year</th>\n",
              "      <th>geolocation_lat</th>\n",
              "      <th>geolocation_lng</th>\n",
              "      <th>payment_value</th>\n",
              "      <th>product_category_name</th>\n",
              "    </tr>\n",
              "  </thead>\n",
              "  <tbody>\n",
              "    <tr>\n",
              "      <th>0</th>\n",
              "      <td>2018.0</td>\n",
              "      <td>-23.56</td>\n",
              "      <td>-46.64</td>\n",
              "      <td>68.87</td>\n",
              "      <td>beleza_saude</td>\n",
              "    </tr>\n",
              "    <tr>\n",
              "      <th>1</th>\n",
              "      <td>2017.0</td>\n",
              "      <td>-23.49</td>\n",
              "      <td>-46.64</td>\n",
              "      <td>30.60</td>\n",
              "      <td>telefonia</td>\n",
              "    </tr>\n",
              "    <tr>\n",
              "      <th>2</th>\n",
              "      <td>2018.0</td>\n",
              "      <td>-23.57</td>\n",
              "      <td>-46.64</td>\n",
              "      <td>137.72</td>\n",
              "      <td>consoles_games</td>\n",
              "    </tr>\n",
              "    <tr>\n",
              "      <th>3</th>\n",
              "      <td>2018.0</td>\n",
              "      <td>-23.55</td>\n",
              "      <td>-46.63</td>\n",
              "      <td>62.65</td>\n",
              "      <td>relogios_presentes</td>\n",
              "    </tr>\n",
              "    <tr>\n",
              "      <th>4</th>\n",
              "      <td>2017.0</td>\n",
              "      <td>-23.56</td>\n",
              "      <td>-46.66</td>\n",
              "      <td>94.66</td>\n",
              "      <td>cool_stuff</td>\n",
              "    </tr>\n",
              "  </tbody>\n",
              "</table>\n",
              "</div>"
            ],
            "text/plain": [
              "     year  geolocation_lat  ...  payment_value  product_category_name\n",
              "0  2018.0           -23.56  ...          68.87           beleza_saude\n",
              "1  2017.0           -23.49  ...          30.60              telefonia\n",
              "2  2018.0           -23.57  ...         137.72         consoles_games\n",
              "3  2018.0           -23.55  ...          62.65     relogios_presentes\n",
              "4  2017.0           -23.56  ...          94.66             cool_stuff\n",
              "\n",
              "[5 rows x 5 columns]"
            ]
          },
          "metadata": {
            "tags": []
          },
          "execution_count": 10
        }
      ]
    },
    {
      "cell_type": "code",
      "metadata": {
        "id": "A8mvxtr0olAX"
      },
      "source": [
        "df_grouped = df2.groupby(['year','geolocation_lat','geolocation_lng','product_category_name']).sum()"
      ],
      "execution_count": 11,
      "outputs": []
    },
    {
      "cell_type": "code",
      "metadata": {
        "colab": {
          "base_uri": "https://localhost:8080/",
          "height": 450
        },
        "id": "HgOh1xjoo3Th",
        "outputId": "e1341710-1eaa-4930-c68e-44d62068707f"
      },
      "source": [
        "df_grouped"
      ],
      "execution_count": 12,
      "outputs": [
        {
          "output_type": "execute_result",
          "data": {
            "text/html": [
              "<div>\n",
              "<style scoped>\n",
              "    .dataframe tbody tr th:only-of-type {\n",
              "        vertical-align: middle;\n",
              "    }\n",
              "\n",
              "    .dataframe tbody tr th {\n",
              "        vertical-align: top;\n",
              "    }\n",
              "\n",
              "    .dataframe thead th {\n",
              "        text-align: right;\n",
              "    }\n",
              "</style>\n",
              "<table border=\"1\" class=\"dataframe\">\n",
              "  <thead>\n",
              "    <tr style=\"text-align: right;\">\n",
              "      <th></th>\n",
              "      <th></th>\n",
              "      <th></th>\n",
              "      <th></th>\n",
              "      <th>payment_value</th>\n",
              "    </tr>\n",
              "    <tr>\n",
              "      <th>year</th>\n",
              "      <th>geolocation_lat</th>\n",
              "      <th>geolocation_lng</th>\n",
              "      <th>product_category_name</th>\n",
              "      <th></th>\n",
              "    </tr>\n",
              "  </thead>\n",
              "  <tbody>\n",
              "    <tr>\n",
              "      <th rowspan=\"5\" valign=\"top\">2016.0</th>\n",
              "      <th>-23.85</th>\n",
              "      <th>-46.70</th>\n",
              "      <th>perfumaria</th>\n",
              "      <td>273.77</td>\n",
              "    </tr>\n",
              "    <tr>\n",
              "      <th>-23.61</th>\n",
              "      <th>-46.51</th>\n",
              "      <th>informatica_acessorios</th>\n",
              "      <td>134.91</td>\n",
              "    </tr>\n",
              "    <tr>\n",
              "      <th rowspan=\"3\" valign=\"top\">-23.58</th>\n",
              "      <th rowspan=\"2\" valign=\"top\">-46.69</th>\n",
              "      <th>moveis_decoracao</th>\n",
              "      <td>298.92</td>\n",
              "    </tr>\n",
              "    <tr>\n",
              "      <th>pet_shop</th>\n",
              "      <td>127.86</td>\n",
              "    </tr>\n",
              "    <tr>\n",
              "      <th>-46.68</th>\n",
              "      <th>fraldas_higiene</th>\n",
              "      <td>150.99</td>\n",
              "    </tr>\n",
              "    <tr>\n",
              "      <th>...</th>\n",
              "      <th>...</th>\n",
              "      <th>...</th>\n",
              "      <th>...</th>\n",
              "      <td>...</td>\n",
              "    </tr>\n",
              "    <tr>\n",
              "      <th rowspan=\"5\" valign=\"top\">2018.0</th>\n",
              "      <th rowspan=\"2\" valign=\"top\">-23.40</th>\n",
              "      <th rowspan=\"2\" valign=\"top\">-46.58</th>\n",
              "      <th>livros_interesse_geral</th>\n",
              "      <td>48.23</td>\n",
              "    </tr>\n",
              "    <tr>\n",
              "      <th>utilidades_domesticas</th>\n",
              "      <td>278.14</td>\n",
              "    </tr>\n",
              "    <tr>\n",
              "      <th rowspan=\"3\" valign=\"top\">-23.38</th>\n",
              "      <th rowspan=\"3\" valign=\"top\">-46.57</th>\n",
              "      <th>eletronicos</th>\n",
              "      <td>38.12</td>\n",
              "    </tr>\n",
              "    <tr>\n",
              "      <th>relogios_presentes</th>\n",
              "      <td>195.36</td>\n",
              "    </tr>\n",
              "    <tr>\n",
              "      <th>telefonia</th>\n",
              "      <td>240.12</td>\n",
              "    </tr>\n",
              "  </tbody>\n",
              "</table>\n",
              "<p>10142 rows × 1 columns</p>\n",
              "</div>"
            ],
            "text/plain": [
              "                                                               payment_value\n",
              "year   geolocation_lat geolocation_lng product_category_name                \n",
              "2016.0 -23.85          -46.70          perfumaria                     273.77\n",
              "       -23.61          -46.51          informatica_acessorios         134.91\n",
              "       -23.58          -46.69          moveis_decoracao               298.92\n",
              "                                       pet_shop                       127.86\n",
              "                       -46.68          fraldas_higiene                150.99\n",
              "...                                                                      ...\n",
              "2018.0 -23.40          -46.58          livros_interesse_geral          48.23\n",
              "                                       utilidades_domesticas          278.14\n",
              "       -23.38          -46.57          eletronicos                     38.12\n",
              "                                       relogios_presentes             195.36\n",
              "                                       telefonia                      240.12\n",
              "\n",
              "[10142 rows x 1 columns]"
            ]
          },
          "metadata": {
            "tags": []
          },
          "execution_count": 12
        }
      ]
    },
    {
      "cell_type": "code",
      "metadata": {
        "id": "EI8RdHafphU8"
      },
      "source": [
        "df_grouped.to_csv('dataset.csv',sep=',')"
      ],
      "execution_count": 14,
      "outputs": []
    }
  ]
}